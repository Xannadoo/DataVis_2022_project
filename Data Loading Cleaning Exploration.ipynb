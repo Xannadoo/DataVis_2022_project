{
 "cells": [
  {
   "cell_type": "code",
   "execution_count": 1,
   "id": "e089d88d",
   "metadata": {},
   "outputs": [],
   "source": [
    "import pandas as pd"
   ]
  },
  {
   "cell_type": "markdown",
   "id": "aebec0b4",
   "metadata": {},
   "source": [
    "## PATHS"
   ]
  },
  {
   "cell_type": "code",
   "execution_count": 2,
   "id": "6131644e",
   "metadata": {},
   "outputs": [],
   "source": [
    "PERIODS = 'menstrual_health_cycles.csv'\n",
    "SLEEP_score = 'sleep/sleep_score.csv'\n",
    "SLEEP = 'sleep/sleep-2022-03-20.json'"
   ]
  },
  {
   "cell_type": "markdown",
   "id": "2d8d489a",
   "metadata": {},
   "source": [
    "## periods"
   ]
  },
  {
   "cell_type": "code",
   "execution_count": 3,
   "id": "7055454b",
   "metadata": {},
   "outputs": [],
   "source": [
    "per = pd.read_csv(PERIODS)\n",
    "per.drop(['id','ovulation_source', 'period_source', 'fertile_source', 'ovulation_start_date','ovulation_end_date','fertile_start_date','fertile_end_date'], axis=1, inplace=True)\n",
    "per['cycle_start_date'] = pd.to_datetime(per['cycle_start_date'])\n",
    "per['cycle_end_date'] = pd.to_datetime(per['cycle_end_date'])\n",
    "per['period_start_date'] = pd.to_datetime(per['period_start_date'])\n",
    "per['period_end_date'] = pd.to_datetime(per['period_end_date'])\n",
    "per['cycle_length'] = per['cycle_end_date'] - per['cycle_start_date']\n",
    "per['period_length'] = per['period_end_date'] - per['period_start_date']\n",
    "per['cycle_length'] = pd.to_timedelta(per['cycle_length']).dt.days\n",
    "per['period_length'] = pd.to_timedelta(per['period_length']).dt.days\n",
    "per.drop([per.index[37], per.index[38], per.index[39]], inplace=True)\n",
    "per.to_csv('interim_data/periods.csv', columns=['cycle_start_date','cycle_length','period_length'])"
   ]
  },
  {
   "cell_type": "code",
   "execution_count": 4,
   "id": "11440356",
   "metadata": {},
   "outputs": [
    {
     "data": {
      "text/html": [
       "<div>\n",
       "<style scoped>\n",
       "    .dataframe tbody tr th:only-of-type {\n",
       "        vertical-align: middle;\n",
       "    }\n",
       "\n",
       "    .dataframe tbody tr th {\n",
       "        vertical-align: top;\n",
       "    }\n",
       "\n",
       "    .dataframe thead th {\n",
       "        text-align: right;\n",
       "    }\n",
       "</style>\n",
       "<table border=\"1\" class=\"dataframe\">\n",
       "  <thead>\n",
       "    <tr style=\"text-align: right;\">\n",
       "      <th></th>\n",
       "      <th>cycle_start_date</th>\n",
       "      <th>cycle_end_date</th>\n",
       "      <th>period_start_date</th>\n",
       "      <th>period_end_date</th>\n",
       "      <th>cycle_length</th>\n",
       "      <th>period_length</th>\n",
       "    </tr>\n",
       "  </thead>\n",
       "  <tbody>\n",
       "    <tr>\n",
       "      <th>0</th>\n",
       "      <td>2019-05-13</td>\n",
       "      <td>2019-06-13</td>\n",
       "      <td>2019-05-13</td>\n",
       "      <td>2019-05-19</td>\n",
       "      <td>31</td>\n",
       "      <td>6</td>\n",
       "    </tr>\n",
       "    <tr>\n",
       "      <th>1</th>\n",
       "      <td>2019-06-14</td>\n",
       "      <td>2019-07-14</td>\n",
       "      <td>2019-06-14</td>\n",
       "      <td>2019-06-18</td>\n",
       "      <td>30</td>\n",
       "      <td>4</td>\n",
       "    </tr>\n",
       "    <tr>\n",
       "      <th>2</th>\n",
       "      <td>2019-07-15</td>\n",
       "      <td>2019-08-12</td>\n",
       "      <td>2019-07-15</td>\n",
       "      <td>2019-07-21</td>\n",
       "      <td>28</td>\n",
       "      <td>6</td>\n",
       "    </tr>\n",
       "    <tr>\n",
       "      <th>3</th>\n",
       "      <td>2019-08-13</td>\n",
       "      <td>2019-09-07</td>\n",
       "      <td>2019-08-13</td>\n",
       "      <td>2019-08-17</td>\n",
       "      <td>25</td>\n",
       "      <td>4</td>\n",
       "    </tr>\n",
       "    <tr>\n",
       "      <th>4</th>\n",
       "      <td>2019-09-08</td>\n",
       "      <td>2019-10-06</td>\n",
       "      <td>2019-09-08</td>\n",
       "      <td>2019-09-12</td>\n",
       "      <td>28</td>\n",
       "      <td>4</td>\n",
       "    </tr>\n",
       "  </tbody>\n",
       "</table>\n",
       "</div>"
      ],
      "text/plain": [
       "  cycle_start_date cycle_end_date period_start_date period_end_date  \\\n",
       "0       2019-05-13     2019-06-13        2019-05-13      2019-05-19   \n",
       "1       2019-06-14     2019-07-14        2019-06-14      2019-06-18   \n",
       "2       2019-07-15     2019-08-12        2019-07-15      2019-07-21   \n",
       "3       2019-08-13     2019-09-07        2019-08-13      2019-08-17   \n",
       "4       2019-09-08     2019-10-06        2019-09-08      2019-09-12   \n",
       "\n",
       "   cycle_length  period_length  \n",
       "0            31              6  \n",
       "1            30              4  \n",
       "2            28              6  \n",
       "3            25              4  \n",
       "4            28              4  "
      ]
     },
     "execution_count": 4,
     "metadata": {},
     "output_type": "execute_result"
    }
   ],
   "source": [
    "per['period_start_date'] = per['period_start_date'].dt.date\n",
    "per['period_end_date'] = per['period_end_date'].dt.date\n",
    "\n",
    "per.head()"
   ]
  },
  {
   "cell_type": "markdown",
   "id": "247cd985",
   "metadata": {},
   "source": [
    "### Sleep Data"
   ]
  },
  {
   "cell_type": "code",
   "execution_count": 5,
   "id": "09821f31",
   "metadata": {},
   "outputs": [],
   "source": [
    "scores = pd.read_csv(SLEEP_score)\n",
    "scores['timestamp'] = pd.to_datetime(scores['timestamp'])\n",
    "scores['date'] = scores['timestamp'].dt.date\n",
    "scores['wake_time'] = scores['timestamp'].dt.time\n",
    "scores.drop(['sleep_log_entry_id', 'timestamp'], axis=1, inplace=True)"
   ]
  },
  {
   "cell_type": "code",
   "execution_count": 6,
   "id": "6ca95939",
   "metadata": {},
   "outputs": [],
   "source": [
    "sleep_files = ['2020-05-29', '2020-06-28','2020-07-28','2020-08-27','2020-09-26','2020-10-26','2020-11-25','2020-12-25',\n",
    "               '2021-01-24','2021-02-23','2021-03-25','2021-04-24','2021-05-24','2021-06-23','2021-07-23','2021-08-22',\n",
    "               '2021-09-21','2021-10-21', '2021-11-20', '2021-12-20','2022-01-19', '2022-02-18', '2022-03-20']"
   ]
  },
  {
   "cell_type": "code",
   "execution_count": 7,
   "id": "026af074",
   "metadata": {},
   "outputs": [],
   "source": [
    "supe = pd.DataFrame()\n",
    "for fi in sleep_files:\n",
    "    sleep = pd.read_json('sleep/sleep-' + fi + '.json')\n",
    "    sleep['endTime'] = pd.to_datetime(sleep['endTime'])\n",
    "    \n",
    "    sleep = sleep[sleep['mainSleep']==True]\n",
    "    temp = pd.DataFrame()\n",
    "    \n",
    "    for x in range(sleep.shape[0]):\n",
    "        try:\n",
    "            a = sleep['levels'][x]['summary']['deep']['minutes']\n",
    "        except: \n",
    "            a = False\n",
    "            #print('a', fi)\n",
    "        try:\n",
    "            b = sleep['levels'][x]['summary']['wake']['minutes']\n",
    "        except: \n",
    "            b = False\n",
    "            #print('b', fi)\n",
    "        try:\n",
    "            c = sleep['levels'][x]['summary']['light']['minutes']\n",
    "        except: \n",
    "            c = False\n",
    "            #print('c', fi)\n",
    "        try:\n",
    "            d = sleep['levels'][x]['summary']['rem']['minutes']\n",
    "        except: \n",
    "            d= False\n",
    "            #print('d', fi)\n",
    "        \n",
    "        temp[x] = a, b, c, d\n",
    "\n",
    "    temp = temp.T\n",
    "    temp.columns = ['deep','wake', 'light','rem']\n",
    "\n",
    "    sleep = sleep[['endTime', 'minutesAsleep']]\n",
    "    sleep = pd.concat([sleep, temp], axis=1)\n",
    "    sleep['date'] = sleep['endTime'].dt.date\n",
    "    sleep['wake_time'] = sleep['endTime'].dt.time\n",
    "    sleep.drop('endTime', axis=1, inplace=True)\n",
    "    sleep = sleep[['date','minutesAsleep','deep','light','rem','wake', 'wake_time']]\n",
    "\n",
    "    sleep['in_bed_time (mins)'] = sleep['minutesAsleep'] + sleep['wake']\n",
    "    \n",
    "    supe = pd.concat([supe, sleep], axis=0)"
   ]
  },
  {
   "cell_type": "code",
   "execution_count": 8,
   "id": "483a080a",
   "metadata": {},
   "outputs": [],
   "source": [
    "'''a = supe[supe.duplicated(['date'], keep='last')==True]\n",
    "b = supe[supe.duplicated(['date'])==True]\n",
    "dup = pd.concat([a, b], axis = 0)\n",
    "dup.sort_values('date')''';"
   ]
  },
  {
   "cell_type": "code",
   "execution_count": 9,
   "id": "53137414",
   "metadata": {},
   "outputs": [],
   "source": [
    "supe.drop_duplicates('date', inplace=True)\n",
    "supe.set_index('date', inplace=True)\n",
    "scores = scores.join(supe, on='date', how='left', lsuffix='s')\n",
    "scores.set_index('date', inplace=True)\n",
    "scores.to_csv('interim_data/sleep.csv')"
   ]
  },
  {
   "cell_type": "code",
   "execution_count": 10,
   "id": "54a77ef2",
   "metadata": {},
   "outputs": [
    {
     "name": "stdout",
     "output_type": "stream",
     "text": [
      "661\n",
      "659\n"
     ]
    }
   ],
   "source": [
    "print(supe.shape[0])\n",
    "supe.dropna(inplace=True)\n",
    "print(supe.shape[0])"
   ]
  },
  {
   "cell_type": "code",
   "execution_count": 37,
   "id": "c29de4a0",
   "metadata": {},
   "outputs": [
    {
     "data": {
      "text/html": [
       "<div>\n",
       "<style scoped>\n",
       "    .dataframe tbody tr th:only-of-type {\n",
       "        vertical-align: middle;\n",
       "    }\n",
       "\n",
       "    .dataframe tbody tr th {\n",
       "        vertical-align: top;\n",
       "    }\n",
       "\n",
       "    .dataframe thead th {\n",
       "        text-align: right;\n",
       "    }\n",
       "</style>\n",
       "<table border=\"1\" class=\"dataframe\">\n",
       "  <thead>\n",
       "    <tr style=\"text-align: right;\">\n",
       "      <th></th>\n",
       "      <th>date</th>\n",
       "      <th>minutesAsleep</th>\n",
       "      <th>deep</th>\n",
       "      <th>light</th>\n",
       "      <th>rem</th>\n",
       "      <th>wake</th>\n",
       "      <th>wake_time</th>\n",
       "      <th>in_bed_time (mins)</th>\n",
       "      <th>period</th>\n",
       "    </tr>\n",
       "  </thead>\n",
       "  <tbody>\n",
       "    <tr>\n",
       "      <th>0</th>\n",
       "      <td>2020-06-28</td>\n",
       "      <td>452.0</td>\n",
       "      <td>98</td>\n",
       "      <td>228</td>\n",
       "      <td>126</td>\n",
       "      <td>57</td>\n",
       "      <td>08:53:00</td>\n",
       "      <td>509</td>\n",
       "      <td>0</td>\n",
       "    </tr>\n",
       "    <tr>\n",
       "      <th>1</th>\n",
       "      <td>2020-06-27</td>\n",
       "      <td>434.0</td>\n",
       "      <td>76</td>\n",
       "      <td>289</td>\n",
       "      <td>69</td>\n",
       "      <td>72</td>\n",
       "      <td>08:38:30</td>\n",
       "      <td>506</td>\n",
       "      <td>0</td>\n",
       "    </tr>\n",
       "    <tr>\n",
       "      <th>2</th>\n",
       "      <td>2020-06-26</td>\n",
       "      <td>355.0</td>\n",
       "      <td>64</td>\n",
       "      <td>239</td>\n",
       "      <td>52</td>\n",
       "      <td>49</td>\n",
       "      <td>07:38:30</td>\n",
       "      <td>404</td>\n",
       "      <td>0</td>\n",
       "    </tr>\n",
       "    <tr>\n",
       "      <th>3</th>\n",
       "      <td>2020-06-25</td>\n",
       "      <td>441.0</td>\n",
       "      <td>53</td>\n",
       "      <td>298</td>\n",
       "      <td>90</td>\n",
       "      <td>76</td>\n",
       "      <td>08:44:30</td>\n",
       "      <td>517</td>\n",
       "      <td>0</td>\n",
       "    </tr>\n",
       "    <tr>\n",
       "      <th>4</th>\n",
       "      <td>2020-06-24</td>\n",
       "      <td>424.0</td>\n",
       "      <td>19</td>\n",
       "      <td>298</td>\n",
       "      <td>107</td>\n",
       "      <td>70</td>\n",
       "      <td>08:51:30</td>\n",
       "      <td>494</td>\n",
       "      <td>0</td>\n",
       "    </tr>\n",
       "  </tbody>\n",
       "</table>\n",
       "</div>"
      ],
      "text/plain": [
       "         date  minutesAsleep deep light  rem wake wake_time  \\\n",
       "0  2020-06-28          452.0   98   228  126   57  08:53:00   \n",
       "1  2020-06-27          434.0   76   289   69   72  08:38:30   \n",
       "2  2020-06-26          355.0   64   239   52   49  07:38:30   \n",
       "3  2020-06-25          441.0   53   298   90   76  08:44:30   \n",
       "4  2020-06-24          424.0   19   298  107   70  08:51:30   \n",
       "\n",
       "  in_bed_time (mins)  period  \n",
       "0                509       0  \n",
       "1                506       0  \n",
       "2                404       0  \n",
       "3                517       0  \n",
       "4                494       0  "
      ]
     },
     "execution_count": 37,
     "metadata": {},
     "output_type": "execute_result"
    }
   ],
   "source": [
    "supe['period'] = 0\n",
    "supe = supe.reset_index()\n",
    "supe.head()"
   ]
  },
  {
   "cell_type": "code",
   "execution_count": 41,
   "id": "edfb2bcb",
   "metadata": {},
   "outputs": [
    {
     "name": "stderr",
     "output_type": "stream",
     "text": [
      "/home/xanadoo/.local/lib/python3.8/site-packages/pandas/core/series.py:1056: SettingWithCopyWarning: \n",
      "A value is trying to be set on a copy of a slice from a DataFrame\n",
      "\n",
      "See the caveats in the documentation: https://pandas.pydata.org/pandas-docs/stable/user_guide/indexing.html#returning-a-view-versus-a-copy\n",
      "  cacher_needs_updating = self._check_is_chained_assignment_possible()\n"
     ]
    }
   ],
   "source": [
    "for d in supe.index:\n",
    "    for i in per.index:\n",
    "        if supe.iloc[d]['date'] >= per.iloc[i]['period_start_date'] and supe.iloc[d]['date'] <= per.iloc[i]['period_end_date']:\n",
    "            supe.iloc[d]['period'] = 1"
   ]
  },
  {
   "cell_type": "code",
   "execution_count": 42,
   "id": "b7553b6e",
   "metadata": {},
   "outputs": [
    {
     "data": {
      "text/html": [
       "<div>\n",
       "<style scoped>\n",
       "    .dataframe tbody tr th:only-of-type {\n",
       "        vertical-align: middle;\n",
       "    }\n",
       "\n",
       "    .dataframe tbody tr th {\n",
       "        vertical-align: top;\n",
       "    }\n",
       "\n",
       "    .dataframe thead th {\n",
       "        text-align: right;\n",
       "    }\n",
       "</style>\n",
       "<table border=\"1\" class=\"dataframe\">\n",
       "  <thead>\n",
       "    <tr style=\"text-align: right;\">\n",
       "      <th></th>\n",
       "      <th>date</th>\n",
       "      <th>minutesAsleep</th>\n",
       "      <th>deep</th>\n",
       "      <th>light</th>\n",
       "      <th>rem</th>\n",
       "      <th>wake</th>\n",
       "      <th>wake_time</th>\n",
       "      <th>in_bed_time (mins)</th>\n",
       "      <th>period</th>\n",
       "    </tr>\n",
       "  </thead>\n",
       "  <tbody>\n",
       "  </tbody>\n",
       "</table>\n",
       "</div>"
      ],
      "text/plain": [
       "Empty DataFrame\n",
       "Columns: [date, minutesAsleep, deep, light, rem, wake, wake_time, in_bed_time (mins), period]\n",
       "Index: []"
      ]
     },
     "execution_count": 42,
     "metadata": {},
     "output_type": "execute_result"
    }
   ],
   "source": [
    "supe[supe['period']==1]\n",
    "#supe.head()"
   ]
  },
  {
   "cell_type": "code",
   "execution_count": null,
   "id": "0676058b",
   "metadata": {},
   "outputs": [],
   "source": []
  }
 ],
 "metadata": {
  "kernelspec": {
   "display_name": "Python 3 (ipykernel)",
   "language": "python",
   "name": "python3"
  },
  "language_info": {
   "codemirror_mode": {
    "name": "ipython",
    "version": 3
   },
   "file_extension": ".py",
   "mimetype": "text/x-python",
   "name": "python",
   "nbconvert_exporter": "python",
   "pygments_lexer": "ipython3",
   "version": "3.8.10"
  }
 },
 "nbformat": 4,
 "nbformat_minor": 5
}
