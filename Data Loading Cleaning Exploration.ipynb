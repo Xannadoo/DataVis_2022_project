{
 "cells": [
  {
   "cell_type": "code",
   "execution_count": 1,
   "id": "e089d88d",
   "metadata": {},
   "outputs": [],
   "source": [
    "import pandas as pd"
   ]
  },
  {
   "cell_type": "markdown",
   "id": "aebec0b4",
   "metadata": {},
   "source": [
    "## PATHS"
   ]
  },
  {
   "cell_type": "code",
   "execution_count": 2,
   "id": "6131644e",
   "metadata": {},
   "outputs": [],
   "source": [
    "PERIODS = 'menstrual_health_cycles.csv'\n",
    "SLEEP_score = 'sleep/sleep_score.csv'\n",
    "SLEEP = 'sleep/sleep-2022-03-20.json'"
   ]
  },
  {
   "cell_type": "markdown",
   "id": "2d8d489a",
   "metadata": {},
   "source": [
    "## periods"
   ]
  },
  {
   "cell_type": "code",
   "execution_count": 3,
   "id": "7055454b",
   "metadata": {},
   "outputs": [],
   "source": [
    "per = pd.read_csv(PERIODS)\n",
    "per.drop(['id','ovulation_source', 'period_source', 'fertile_source', 'ovulation_start_date','ovulation_end_date','fertile_start_date','fertile_end_date'], axis=1, inplace=True)\n",
    "per['cycle_start_date'] = pd.to_datetime(per['cycle_start_date'])\n",
    "per['cycle_end_date'] = pd.to_datetime(per['cycle_end_date'])\n",
    "per['period_start_date'] = pd.to_datetime(per['period_start_date'])\n",
    "per['period_end_date'] = pd.to_datetime(per['period_end_date'])\n",
    "per['cycle_length'] = per['cycle_end_date'] - per['cycle_start_date']\n",
    "per['period_length'] = per['period_end_date'] - per['period_start_date']\n",
    "per['cycle_length'] = pd.to_timedelta(per['cycle_length']).dt.days\n",
    "per['period_length'] = pd.to_timedelta(per['period_length']).dt.days\n",
    "per.drop([per.index[37], per.index[38], per.index[39]], inplace=True)\n",
    "per.to_csv('interim_data/periods.csv', columns=['cycle_start_date','cycle_length','period_length'])"
   ]
  },
  {
   "cell_type": "markdown",
   "id": "247cd985",
   "metadata": {},
   "source": [
    "### Sleep Data"
   ]
  },
  {
   "cell_type": "code",
   "execution_count": 4,
   "id": "09821f31",
   "metadata": {},
   "outputs": [],
   "source": [
    "scores = pd.read_csv(SLEEP_score)\n",
    "scores['timestamp'] = pd.to_datetime(scores['timestamp'])\n",
    "scores['date'] = scores['timestamp'].dt.date\n",
    "scores['wake_time'] = scores['timestamp'].dt.time\n",
    "scores.drop(['sleep_log_entry_id', 'timestamp'], axis=1, inplace=True)"
   ]
  },
  {
   "cell_type": "code",
   "execution_count": 5,
   "id": "6ca95939",
   "metadata": {},
   "outputs": [],
   "source": [
    "sleep_files = ['2020-05-29', '2020-06-28','2020-07-28','2020-08-27','2020-09-26','2020-10-26','2020-11-25','2020-12-25',\n",
    "               '2021-01-24','2021-02-23','2021-03-25','2021-04-24','2021-05-24','2021-06-23','2021-07-23','2021-08-22',\n",
    "               '2021-09-21','2021-10-21', '2021-11-20', '2021-12-20','2022-01-19', '2022-02-18', '2022-03-20']"
   ]
  },
  {
   "cell_type": "code",
   "execution_count": 6,
   "id": "026af074",
   "metadata": {},
   "outputs": [],
   "source": [
    "supe = pd.DataFrame()\n",
    "for fi in sleep_files:\n",
    "    sleep = pd.read_json('sleep/sleep-' + fi + '.json')\n",
    "    sleep['endTime'] = pd.to_datetime(sleep['endTime'])\n",
    "    \n",
    "    sleep = sleep[sleep['mainSleep']==True]\n",
    "    temp = pd.DataFrame()\n",
    "    \n",
    "    for x in range(sleep.shape[0]):\n",
    "        try:\n",
    "            a = sleep['levels'][x]['summary']['deep']['minutes']\n",
    "        except: \n",
    "            a = False\n",
    "            #print('a', fi)\n",
    "        try:\n",
    "            b = sleep['levels'][x]['summary']['wake']['minutes']\n",
    "        except: \n",
    "            b = False\n",
    "            #print('b', fi)\n",
    "        try:\n",
    "            c = sleep['levels'][x]['summary']['light']['minutes']\n",
    "        except: \n",
    "            c = False\n",
    "            #print('c', fi)\n",
    "        try:\n",
    "            d = sleep['levels'][x]['summary']['rem']['minutes']\n",
    "        except: \n",
    "            d= False\n",
    "            #print('d', fi)\n",
    "        \n",
    "        temp[x] = a, b, c, d\n",
    "\n",
    "    temp = temp.T\n",
    "    temp.columns = ['deep','wake', 'light','rem']\n",
    "\n",
    "    sleep = sleep[['endTime', 'minutesAsleep']]\n",
    "    sleep = pd.concat([sleep, temp], axis=1)\n",
    "    sleep['date'] = sleep['endTime'].dt.date\n",
    "    sleep['wake_time'] = sleep['endTime'].dt.time\n",
    "    sleep.drop('endTime', axis=1, inplace=True)\n",
    "    sleep = sleep[['date','minutesAsleep','deep','light','rem','wake', 'wake_time']]\n",
    "\n",
    "    sleep['in_bed_time (mins)'] = sleep['minutesAsleep'] + sleep['wake']\n",
    "    \n",
    "    supe = pd.concat([supe, sleep], axis=0)"
   ]
  },
  {
   "cell_type": "code",
   "execution_count": 7,
   "id": "483a080a",
   "metadata": {},
   "outputs": [],
   "source": [
    "'''a = supe[supe.duplicated(['date'], keep='last')==True]\n",
    "b = supe[supe.duplicated(['date'])==True]\n",
    "dup = pd.concat([a, b], axis = 0)\n",
    "dup.sort_values('date')''';"
   ]
  },
  {
   "cell_type": "code",
   "execution_count": 8,
   "id": "53137414",
   "metadata": {},
   "outputs": [],
   "source": [
    "supe.drop_duplicates('date', inplace=True)\n",
    "supe.set_index('date', inplace=True)\n",
    "scores = scores.join(supe, on='date', how='left', lsuffix='s')\n",
    "scores.set_index('date', inplace=True)\n",
    "scores.to_csv('interim_data/sleep.csv')"
   ]
  }
 ],
 "metadata": {
  "kernelspec": {
   "display_name": "Python 3 (ipykernel)",
   "language": "python",
   "name": "python3"
  },
  "language_info": {
   "codemirror_mode": {
    "name": "ipython",
    "version": 3
   },
   "file_extension": ".py",
   "mimetype": "text/x-python",
   "name": "python",
   "nbconvert_exporter": "python",
   "pygments_lexer": "ipython3",
   "version": "3.8.10"
  }
 },
 "nbformat": 4,
 "nbformat_minor": 5
}
